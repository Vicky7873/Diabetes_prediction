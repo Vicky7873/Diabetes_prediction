{
 "cells": [
  {
   "cell_type": "code",
   "execution_count": 8,
   "id": "ef457033-1b47-443f-886b-4dae941413ca",
   "metadata": {},
   "outputs": [],
   "source": [
    "import pandas as pd\n",
    "import numpy as np\n",
    "import matplotlib.pyplot as plt\n",
    "import seaborn as sns"
   ]
  },
  {
   "cell_type": "code",
   "execution_count": 9,
   "id": "ef1bb5ac-b829-4dac-9cfb-ec09331c5659",
   "metadata": {},
   "outputs": [
    {
     "ename": "FileNotFoundError",
     "evalue": "[Errno 2] No such file or directory: 'kaggle_diabetes.csv'",
     "output_type": "error",
     "traceback": [
      "\u001b[0;31m---------------------------------------------------------------------------\u001b[0m",
      "\u001b[0;31mFileNotFoundError\u001b[0m                         Traceback (most recent call last)",
      "Cell \u001b[0;32mIn[9], line 1\u001b[0m\n\u001b[0;32m----> 1\u001b[0m df \u001b[38;5;241m=\u001b[39m \u001b[43mpd\u001b[49m\u001b[38;5;241;43m.\u001b[39;49m\u001b[43mread_csv\u001b[49m\u001b[43m(\u001b[49m\u001b[38;5;124;43m\"\u001b[39;49m\u001b[38;5;124;43mkaggle_diabetes.csv\u001b[39;49m\u001b[38;5;124;43m\"\u001b[39;49m\u001b[43m)\u001b[49m\n\u001b[1;32m      2\u001b[0m df\u001b[38;5;241m.\u001b[39mhead()\n",
      "File \u001b[0;32m/Applications/anaconda3/envs/dp_64/lib/python3.12/site-packages/pandas/io/parsers/readers.py:1026\u001b[0m, in \u001b[0;36mread_csv\u001b[0;34m(filepath_or_buffer, sep, delimiter, header, names, index_col, usecols, dtype, engine, converters, true_values, false_values, skipinitialspace, skiprows, skipfooter, nrows, na_values, keep_default_na, na_filter, verbose, skip_blank_lines, parse_dates, infer_datetime_format, keep_date_col, date_parser, date_format, dayfirst, cache_dates, iterator, chunksize, compression, thousands, decimal, lineterminator, quotechar, quoting, doublequote, escapechar, comment, encoding, encoding_errors, dialect, on_bad_lines, delim_whitespace, low_memory, memory_map, float_precision, storage_options, dtype_backend)\u001b[0m\n\u001b[1;32m   1013\u001b[0m kwds_defaults \u001b[38;5;241m=\u001b[39m _refine_defaults_read(\n\u001b[1;32m   1014\u001b[0m     dialect,\n\u001b[1;32m   1015\u001b[0m     delimiter,\n\u001b[0;32m   (...)\u001b[0m\n\u001b[1;32m   1022\u001b[0m     dtype_backend\u001b[38;5;241m=\u001b[39mdtype_backend,\n\u001b[1;32m   1023\u001b[0m )\n\u001b[1;32m   1024\u001b[0m kwds\u001b[38;5;241m.\u001b[39mupdate(kwds_defaults)\n\u001b[0;32m-> 1026\u001b[0m \u001b[38;5;28;01mreturn\u001b[39;00m \u001b[43m_read\u001b[49m\u001b[43m(\u001b[49m\u001b[43mfilepath_or_buffer\u001b[49m\u001b[43m,\u001b[49m\u001b[43m \u001b[49m\u001b[43mkwds\u001b[49m\u001b[43m)\u001b[49m\n",
      "File \u001b[0;32m/Applications/anaconda3/envs/dp_64/lib/python3.12/site-packages/pandas/io/parsers/readers.py:620\u001b[0m, in \u001b[0;36m_read\u001b[0;34m(filepath_or_buffer, kwds)\u001b[0m\n\u001b[1;32m    617\u001b[0m _validate_names(kwds\u001b[38;5;241m.\u001b[39mget(\u001b[38;5;124m\"\u001b[39m\u001b[38;5;124mnames\u001b[39m\u001b[38;5;124m\"\u001b[39m, \u001b[38;5;28;01mNone\u001b[39;00m))\n\u001b[1;32m    619\u001b[0m \u001b[38;5;66;03m# Create the parser.\u001b[39;00m\n\u001b[0;32m--> 620\u001b[0m parser \u001b[38;5;241m=\u001b[39m \u001b[43mTextFileReader\u001b[49m\u001b[43m(\u001b[49m\u001b[43mfilepath_or_buffer\u001b[49m\u001b[43m,\u001b[49m\u001b[43m \u001b[49m\u001b[38;5;241;43m*\u001b[39;49m\u001b[38;5;241;43m*\u001b[39;49m\u001b[43mkwds\u001b[49m\u001b[43m)\u001b[49m\n\u001b[1;32m    622\u001b[0m \u001b[38;5;28;01mif\u001b[39;00m chunksize \u001b[38;5;129;01mor\u001b[39;00m iterator:\n\u001b[1;32m    623\u001b[0m     \u001b[38;5;28;01mreturn\u001b[39;00m parser\n",
      "File \u001b[0;32m/Applications/anaconda3/envs/dp_64/lib/python3.12/site-packages/pandas/io/parsers/readers.py:1620\u001b[0m, in \u001b[0;36mTextFileReader.__init__\u001b[0;34m(self, f, engine, **kwds)\u001b[0m\n\u001b[1;32m   1617\u001b[0m     \u001b[38;5;28mself\u001b[39m\u001b[38;5;241m.\u001b[39moptions[\u001b[38;5;124m\"\u001b[39m\u001b[38;5;124mhas_index_names\u001b[39m\u001b[38;5;124m\"\u001b[39m] \u001b[38;5;241m=\u001b[39m kwds[\u001b[38;5;124m\"\u001b[39m\u001b[38;5;124mhas_index_names\u001b[39m\u001b[38;5;124m\"\u001b[39m]\n\u001b[1;32m   1619\u001b[0m \u001b[38;5;28mself\u001b[39m\u001b[38;5;241m.\u001b[39mhandles: IOHandles \u001b[38;5;241m|\u001b[39m \u001b[38;5;28;01mNone\u001b[39;00m \u001b[38;5;241m=\u001b[39m \u001b[38;5;28;01mNone\u001b[39;00m\n\u001b[0;32m-> 1620\u001b[0m \u001b[38;5;28mself\u001b[39m\u001b[38;5;241m.\u001b[39m_engine \u001b[38;5;241m=\u001b[39m \u001b[38;5;28;43mself\u001b[39;49m\u001b[38;5;241;43m.\u001b[39;49m\u001b[43m_make_engine\u001b[49m\u001b[43m(\u001b[49m\u001b[43mf\u001b[49m\u001b[43m,\u001b[49m\u001b[43m \u001b[49m\u001b[38;5;28;43mself\u001b[39;49m\u001b[38;5;241;43m.\u001b[39;49m\u001b[43mengine\u001b[49m\u001b[43m)\u001b[49m\n",
      "File \u001b[0;32m/Applications/anaconda3/envs/dp_64/lib/python3.12/site-packages/pandas/io/parsers/readers.py:1880\u001b[0m, in \u001b[0;36mTextFileReader._make_engine\u001b[0;34m(self, f, engine)\u001b[0m\n\u001b[1;32m   1878\u001b[0m     \u001b[38;5;28;01mif\u001b[39;00m \u001b[38;5;124m\"\u001b[39m\u001b[38;5;124mb\u001b[39m\u001b[38;5;124m\"\u001b[39m \u001b[38;5;129;01mnot\u001b[39;00m \u001b[38;5;129;01min\u001b[39;00m mode:\n\u001b[1;32m   1879\u001b[0m         mode \u001b[38;5;241m+\u001b[39m\u001b[38;5;241m=\u001b[39m \u001b[38;5;124m\"\u001b[39m\u001b[38;5;124mb\u001b[39m\u001b[38;5;124m\"\u001b[39m\n\u001b[0;32m-> 1880\u001b[0m \u001b[38;5;28mself\u001b[39m\u001b[38;5;241m.\u001b[39mhandles \u001b[38;5;241m=\u001b[39m \u001b[43mget_handle\u001b[49m\u001b[43m(\u001b[49m\n\u001b[1;32m   1881\u001b[0m \u001b[43m    \u001b[49m\u001b[43mf\u001b[49m\u001b[43m,\u001b[49m\n\u001b[1;32m   1882\u001b[0m \u001b[43m    \u001b[49m\u001b[43mmode\u001b[49m\u001b[43m,\u001b[49m\n\u001b[1;32m   1883\u001b[0m \u001b[43m    \u001b[49m\u001b[43mencoding\u001b[49m\u001b[38;5;241;43m=\u001b[39;49m\u001b[38;5;28;43mself\u001b[39;49m\u001b[38;5;241;43m.\u001b[39;49m\u001b[43moptions\u001b[49m\u001b[38;5;241;43m.\u001b[39;49m\u001b[43mget\u001b[49m\u001b[43m(\u001b[49m\u001b[38;5;124;43m\"\u001b[39;49m\u001b[38;5;124;43mencoding\u001b[39;49m\u001b[38;5;124;43m\"\u001b[39;49m\u001b[43m,\u001b[49m\u001b[43m \u001b[49m\u001b[38;5;28;43;01mNone\u001b[39;49;00m\u001b[43m)\u001b[49m\u001b[43m,\u001b[49m\n\u001b[1;32m   1884\u001b[0m \u001b[43m    \u001b[49m\u001b[43mcompression\u001b[49m\u001b[38;5;241;43m=\u001b[39;49m\u001b[38;5;28;43mself\u001b[39;49m\u001b[38;5;241;43m.\u001b[39;49m\u001b[43moptions\u001b[49m\u001b[38;5;241;43m.\u001b[39;49m\u001b[43mget\u001b[49m\u001b[43m(\u001b[49m\u001b[38;5;124;43m\"\u001b[39;49m\u001b[38;5;124;43mcompression\u001b[39;49m\u001b[38;5;124;43m\"\u001b[39;49m\u001b[43m,\u001b[49m\u001b[43m \u001b[49m\u001b[38;5;28;43;01mNone\u001b[39;49;00m\u001b[43m)\u001b[49m\u001b[43m,\u001b[49m\n\u001b[1;32m   1885\u001b[0m \u001b[43m    \u001b[49m\u001b[43mmemory_map\u001b[49m\u001b[38;5;241;43m=\u001b[39;49m\u001b[38;5;28;43mself\u001b[39;49m\u001b[38;5;241;43m.\u001b[39;49m\u001b[43moptions\u001b[49m\u001b[38;5;241;43m.\u001b[39;49m\u001b[43mget\u001b[49m\u001b[43m(\u001b[49m\u001b[38;5;124;43m\"\u001b[39;49m\u001b[38;5;124;43mmemory_map\u001b[39;49m\u001b[38;5;124;43m\"\u001b[39;49m\u001b[43m,\u001b[49m\u001b[43m \u001b[49m\u001b[38;5;28;43;01mFalse\u001b[39;49;00m\u001b[43m)\u001b[49m\u001b[43m,\u001b[49m\n\u001b[1;32m   1886\u001b[0m \u001b[43m    \u001b[49m\u001b[43mis_text\u001b[49m\u001b[38;5;241;43m=\u001b[39;49m\u001b[43mis_text\u001b[49m\u001b[43m,\u001b[49m\n\u001b[1;32m   1887\u001b[0m \u001b[43m    \u001b[49m\u001b[43merrors\u001b[49m\u001b[38;5;241;43m=\u001b[39;49m\u001b[38;5;28;43mself\u001b[39;49m\u001b[38;5;241;43m.\u001b[39;49m\u001b[43moptions\u001b[49m\u001b[38;5;241;43m.\u001b[39;49m\u001b[43mget\u001b[49m\u001b[43m(\u001b[49m\u001b[38;5;124;43m\"\u001b[39;49m\u001b[38;5;124;43mencoding_errors\u001b[39;49m\u001b[38;5;124;43m\"\u001b[39;49m\u001b[43m,\u001b[49m\u001b[43m \u001b[49m\u001b[38;5;124;43m\"\u001b[39;49m\u001b[38;5;124;43mstrict\u001b[39;49m\u001b[38;5;124;43m\"\u001b[39;49m\u001b[43m)\u001b[49m\u001b[43m,\u001b[49m\n\u001b[1;32m   1888\u001b[0m \u001b[43m    \u001b[49m\u001b[43mstorage_options\u001b[49m\u001b[38;5;241;43m=\u001b[39;49m\u001b[38;5;28;43mself\u001b[39;49m\u001b[38;5;241;43m.\u001b[39;49m\u001b[43moptions\u001b[49m\u001b[38;5;241;43m.\u001b[39;49m\u001b[43mget\u001b[49m\u001b[43m(\u001b[49m\u001b[38;5;124;43m\"\u001b[39;49m\u001b[38;5;124;43mstorage_options\u001b[39;49m\u001b[38;5;124;43m\"\u001b[39;49m\u001b[43m,\u001b[49m\u001b[43m \u001b[49m\u001b[38;5;28;43;01mNone\u001b[39;49;00m\u001b[43m)\u001b[49m\u001b[43m,\u001b[49m\n\u001b[1;32m   1889\u001b[0m \u001b[43m\u001b[49m\u001b[43m)\u001b[49m\n\u001b[1;32m   1890\u001b[0m \u001b[38;5;28;01massert\u001b[39;00m \u001b[38;5;28mself\u001b[39m\u001b[38;5;241m.\u001b[39mhandles \u001b[38;5;129;01mis\u001b[39;00m \u001b[38;5;129;01mnot\u001b[39;00m \u001b[38;5;28;01mNone\u001b[39;00m\n\u001b[1;32m   1891\u001b[0m f \u001b[38;5;241m=\u001b[39m \u001b[38;5;28mself\u001b[39m\u001b[38;5;241m.\u001b[39mhandles\u001b[38;5;241m.\u001b[39mhandle\n",
      "File \u001b[0;32m/Applications/anaconda3/envs/dp_64/lib/python3.12/site-packages/pandas/io/common.py:873\u001b[0m, in \u001b[0;36mget_handle\u001b[0;34m(path_or_buf, mode, encoding, compression, memory_map, is_text, errors, storage_options)\u001b[0m\n\u001b[1;32m    868\u001b[0m \u001b[38;5;28;01melif\u001b[39;00m \u001b[38;5;28misinstance\u001b[39m(handle, \u001b[38;5;28mstr\u001b[39m):\n\u001b[1;32m    869\u001b[0m     \u001b[38;5;66;03m# Check whether the filename is to be opened in binary mode.\u001b[39;00m\n\u001b[1;32m    870\u001b[0m     \u001b[38;5;66;03m# Binary mode does not support 'encoding' and 'newline'.\u001b[39;00m\n\u001b[1;32m    871\u001b[0m     \u001b[38;5;28;01mif\u001b[39;00m ioargs\u001b[38;5;241m.\u001b[39mencoding \u001b[38;5;129;01mand\u001b[39;00m \u001b[38;5;124m\"\u001b[39m\u001b[38;5;124mb\u001b[39m\u001b[38;5;124m\"\u001b[39m \u001b[38;5;129;01mnot\u001b[39;00m \u001b[38;5;129;01min\u001b[39;00m ioargs\u001b[38;5;241m.\u001b[39mmode:\n\u001b[1;32m    872\u001b[0m         \u001b[38;5;66;03m# Encoding\u001b[39;00m\n\u001b[0;32m--> 873\u001b[0m         handle \u001b[38;5;241m=\u001b[39m \u001b[38;5;28;43mopen\u001b[39;49m\u001b[43m(\u001b[49m\n\u001b[1;32m    874\u001b[0m \u001b[43m            \u001b[49m\u001b[43mhandle\u001b[49m\u001b[43m,\u001b[49m\n\u001b[1;32m    875\u001b[0m \u001b[43m            \u001b[49m\u001b[43mioargs\u001b[49m\u001b[38;5;241;43m.\u001b[39;49m\u001b[43mmode\u001b[49m\u001b[43m,\u001b[49m\n\u001b[1;32m    876\u001b[0m \u001b[43m            \u001b[49m\u001b[43mencoding\u001b[49m\u001b[38;5;241;43m=\u001b[39;49m\u001b[43mioargs\u001b[49m\u001b[38;5;241;43m.\u001b[39;49m\u001b[43mencoding\u001b[49m\u001b[43m,\u001b[49m\n\u001b[1;32m    877\u001b[0m \u001b[43m            \u001b[49m\u001b[43merrors\u001b[49m\u001b[38;5;241;43m=\u001b[39;49m\u001b[43merrors\u001b[49m\u001b[43m,\u001b[49m\n\u001b[1;32m    878\u001b[0m \u001b[43m            \u001b[49m\u001b[43mnewline\u001b[49m\u001b[38;5;241;43m=\u001b[39;49m\u001b[38;5;124;43m\"\u001b[39;49m\u001b[38;5;124;43m\"\u001b[39;49m\u001b[43m,\u001b[49m\n\u001b[1;32m    879\u001b[0m \u001b[43m        \u001b[49m\u001b[43m)\u001b[49m\n\u001b[1;32m    880\u001b[0m     \u001b[38;5;28;01melse\u001b[39;00m:\n\u001b[1;32m    881\u001b[0m         \u001b[38;5;66;03m# Binary mode\u001b[39;00m\n\u001b[1;32m    882\u001b[0m         handle \u001b[38;5;241m=\u001b[39m \u001b[38;5;28mopen\u001b[39m(handle, ioargs\u001b[38;5;241m.\u001b[39mmode)\n",
      "\u001b[0;31mFileNotFoundError\u001b[0m: [Errno 2] No such file or directory: 'kaggle_diabetes.csv'"
     ]
    }
   ],
   "source": [
    "df = pd.read_csv(\"kaggle_diabetes.csv\")\n",
    "df.head()"
   ]
  },
  {
   "cell_type": "code",
   "execution_count": null,
   "id": "446deb54",
   "metadata": {},
   "outputs": [],
   "source": [
    "# check the rows and columns\n",
    "df.shape"
   ]
  },
  {
   "cell_type": "code",
   "execution_count": null,
   "id": "9e339f9a",
   "metadata": {},
   "outputs": [],
   "source": [
    "# check the data types\n",
    "df.dtypes"
   ]
  },
  {
   "cell_type": "code",
   "execution_count": null,
   "id": "c7b7a832",
   "metadata": {},
   "outputs": [],
   "source": [
    "# check the null values\n",
    "df.isnull().sum()"
   ]
  },
  {
   "cell_type": "code",
   "execution_count": null,
   "id": "6dcb4df2",
   "metadata": {},
   "outputs": [],
   "source": [
    "# describe the data\n",
    "df.describe()"
   ]
  },
  {
   "cell_type": "code",
   "execution_count": null,
   "id": "0aba1ff0",
   "metadata": {},
   "outputs": [],
   "source": [
    "# horizontal describe\n",
    "df.describe().T"
   ]
  },
  {
   "cell_type": "code",
   "execution_count": null,
   "id": "151afa36",
   "metadata": {},
   "outputs": [],
   "source": [
    "# check the duplicate values\n",
    "dup_value = df.duplicated().sum()\n",
    "np.int64(dup_value)"
   ]
  },
  {
   "cell_type": "code",
   "execution_count": null,
   "id": "00c23e00",
   "metadata": {},
   "outputs": [],
   "source": [
    "print(dup_value)\n",
    "print(np.int64(dup_value))"
   ]
  },
  {
   "cell_type": "code",
   "execution_count": null,
   "id": "f1b8e76b",
   "metadata": {},
   "outputs": [],
   "source": [
    "# check the unique values\n",
    "df.nunique()"
   ]
  },
  {
   "cell_type": "code",
   "execution_count": null,
   "id": "ecbed690",
   "metadata": {},
   "outputs": [],
   "source": [
    "# check the nan values\n",
    "df.isna().sum()"
   ]
  },
  {
   "cell_type": "markdown",
   "id": "20d03357",
   "metadata": {},
   "source": [
    "# EDA"
   ]
  },
  {
   "cell_type": "code",
   "execution_count": null,
   "id": "8d241991",
   "metadata": {},
   "outputs": [],
   "source": [
    "# check the correlation\n",
    "df.corr()"
   ]
  },
  {
   "cell_type": "code",
   "execution_count": null,
   "id": "a0385328",
   "metadata": {},
   "outputs": [],
   "source": [
    "sns.heatmap(df.corr(), annot=True, cmap='PiYG', linewidths=0.2)"
   ]
  },
  {
   "cell_type": "code",
   "execution_count": null,
   "id": "e4041ea1",
   "metadata": {},
   "outputs": [],
   "source": [
    "# get the top3 correlated features\n",
    "def get_redundant_pairs(df):\n",
    "    '''Get diagonal and lower triangular pairs of correlation matrix'''\n",
    "    pairs_to_drop = set()\n",
    "    cols = df.columns\n",
    "    for i in range(0, df.shape[1]):\n",
    "        for j in range(0, i+1):\n",
    "            pairs_to_drop.add((cols[i], cols[j]))\n",
    "    return pairs_to_drop\n",
    "\n",
    "def get_top_abs_correlations(df, n=5):\n",
    "    au_corr = df.corr().abs().unstack()\n",
    "    labels_to_drop = get_redundant_pairs(df)\n",
    "    au_corr = au_corr.drop(labels=labels_to_drop).sort_values(ascending=False)\n",
    "    return au_corr[0:n]\n",
    "\n",
    "print(\"Top Absolute Correlations\")\n",
    "print(get_top_abs_correlations(df, 3))"
   ]
  },
  {
   "cell_type": "markdown",
   "id": "3271276f",
   "metadata": {},
   "source": [
    "### As per above we can say that the glucose is highly correlated with the outcome."
   ]
  },
  {
   "cell_type": "code",
   "execution_count": null,
   "id": "aeb3ca50",
   "metadata": {},
   "outputs": [],
   "source": [
    "# check the skewness\n",
    "df.skew()"
   ]
  },
  {
   "cell_type": "code",
   "execution_count": null,
   "id": "a338c430",
   "metadata": {},
   "outputs": [],
   "source": [
    "# check the skewness as diagram\n",
    "df.skew().plot(kind='barh')"
   ]
  },
  {
   "cell_type": "code",
   "execution_count": null,
   "id": "bb495080",
   "metadata": {},
   "outputs": [],
   "source": [
    "# check the distribution of data\n",
    "df.hist(bins=50, figsize=(20,15))\n",
    "plt.show()"
   ]
  },
  {
   "cell_type": "code",
   "execution_count": null,
   "id": "7b5e88ae",
   "metadata": {},
   "outputs": [],
   "source": [
    "# count the target\n",
    "df['Outcome'].value_counts()"
   ]
  },
  {
   "cell_type": "markdown",
   "id": "4435fd2f-de41-480b-8bd0-b55ad08b2c35",
   "metadata": {},
   "source": [
    "#### As per above count we can say that the it's a imbalanced data set 0 -> 75% and 1->25%"
   ]
  },
  {
   "cell_type": "code",
   "execution_count": null,
   "id": "9731bb4f-2c8f-4fa2-876e-c6c35c91b31c",
   "metadata": {},
   "outputs": [],
   "source": [
    "# check the distribution of pregnancies with target column\n",
    "sns.countplot(data=df, x='Pregnancies', hue='Outcome')"
   ]
  },
  {
   "cell_type": "markdown",
   "id": "c062dd3d",
   "metadata": {},
   "source": [
    "#### As per this daigaram i can say that if you have pregnancies more than 6 then you are more likely to get diabetes"
   ]
  },
  {
   "cell_type": "code",
   "execution_count": null,
   "id": "892365e8",
   "metadata": {},
   "outputs": [],
   "source": [
    "# check the distribution of Glucose with target column\n",
    "plt.figure(figsize=(30,10))\n",
    "df['Glucose'].value_counts().plot(kind='bar')"
   ]
  },
  {
   "cell_type": "code",
   "execution_count": null,
   "id": "7f615005",
   "metadata": {},
   "outputs": [],
   "source": [
    "plt.figure(figsize=(60,10))\n",
    "sns.countplot(data=df, x='Glucose', hue='Outcome')"
   ]
  },
  {
   "cell_type": "markdown",
   "id": "2776706a",
   "metadata": {},
   "source": [
    "#### As per above diagram we can say that the if you have glucose lebel more than 120 then their is a high chance that u r going to be diabetic"
   ]
  },
  {
   "cell_type": "code",
   "execution_count": null,
   "id": "fdcb628c",
   "metadata": {},
   "outputs": [],
   "source": [
    "# check the distribution of BMI with target coumn\n",
    "plt.figure(figsize=(100,10))\n",
    "sns.countplot(data=df, x='BMI', hue='Outcome') "
   ]
  },
  {
   "cell_type": "code",
   "execution_count": null,
   "id": "20a50e9e",
   "metadata": {},
   "outputs": [],
   "source": [
    "# check the distribution of blood pressure with target column\n",
    "plt.figure(figsize=(30,10))\n",
    "sns.countplot(data=df, x='BloodPressure', hue='Outcome')"
   ]
  },
  {
   "cell_type": "code",
   "execution_count": null,
   "id": "045d0242",
   "metadata": {},
   "outputs": [],
   "source": [
    "df.columns"
   ]
  },
  {
   "cell_type": "code",
   "execution_count": null,
   "id": "a0351c8a",
   "metadata": {},
   "outputs": [],
   "source": [
    "# check the distribution of skin thickness with target column\n",
    "plt.figure(figsize=(30,5))\n",
    "sns.countplot(data=df, x='SkinThickness', hue='Outcome')"
   ]
  },
  {
   "cell_type": "code",
   "execution_count": null,
   "id": "270d110f",
   "metadata": {},
   "outputs": [],
   "source": [
    "# check the distribution of Age with target column\n",
    "plt.figure(figsize=(30,5))\n",
    "sns.countplot(data=df, x='Age', hue='Outcome')"
   ]
  },
  {
   "cell_type": "markdown",
   "id": "470fcb44",
   "metadata": {},
   "source": [
    "#### As per above we can say that the if your age is more than 35 then their are certain chances of diabetes."
   ]
  },
  {
   "cell_type": "code",
   "execution_count": null,
   "id": "5badd264",
   "metadata": {},
   "outputs": [],
   "source": [
    "# check the distribution of Insulin with target column\n",
    "plt.figure(figsize=(100,5))\n",
    "sns.countplot(data=df, x='Insulin', hue='Outcome')\n"
   ]
  },
  {
   "cell_type": "code",
   "execution_count": null,
   "id": "8e76ef06",
   "metadata": {},
   "outputs": [],
   "source": [
    "# check the outliers\n",
    "df.plot(kind='box', subplots=True, layout=(3,3), figsize=(20,20))\n",
    "plt.show()"
   ]
  },
  {
   "cell_type": "markdown",
   "id": "55eaec6a",
   "metadata": {},
   "source": [
    "## we have less data so we can't remove the outliers so we need to standardize the data"
   ]
  },
  {
   "cell_type": "code",
   "execution_count": null,
   "id": "3b5a756b",
   "metadata": {},
   "outputs": [],
   "source": [
    "from sklearn.preprocessing import StandardScaler\n",
    "scr = StandardScaler()"
   ]
  },
  {
   "cell_type": "code",
   "execution_count": null,
   "id": "01f0f6d5",
   "metadata": {},
   "outputs": [],
   "source": [
    "df.head(2)"
   ]
  },
  {
   "cell_type": "code",
   "execution_count": null,
   "id": "c505dfad",
   "metadata": {},
   "outputs": [],
   "source": [
    "# standardization\n",
    "X = df.drop(columns='Outcome',axis=1)\n",
    "X = pd.DataFrame(scr.fit_transform(X), columns=X.columns)"
   ]
  },
  {
   "cell_type": "code",
   "execution_count": null,
   "id": "ca268b0b",
   "metadata": {},
   "outputs": [],
   "source": [
    "X.head(2)"
   ]
  },
  {
   "cell_type": "code",
   "execution_count": null,
   "id": "3f7b26a7",
   "metadata": {},
   "outputs": [],
   "source": [
    "# check the outliers\n",
    "X.plot(kind='box', subplots=True, layout=(3,3), figsize=(20,20))\n",
    "plt.show()"
   ]
  },
  {
   "cell_type": "code",
   "execution_count": null,
   "id": "f2250bda",
   "metadata": {},
   "outputs": [],
   "source": [
    "y=df['Outcome']"
   ]
  },
  {
   "cell_type": "code",
   "execution_count": null,
   "id": "57291b57",
   "metadata": {},
   "outputs": [],
   "source": [
    "X.shape,y.shape"
   ]
  },
  {
   "cell_type": "markdown",
   "id": "5dd7caa4",
   "metadata": {},
   "source": [
    "# Split the dataset"
   ]
  },
  {
   "cell_type": "code",
   "execution_count": null,
   "id": "79a78935",
   "metadata": {},
   "outputs": [],
   "source": [
    "from sklearn.model_selection import train_test_split"
   ]
  },
  {
   "cell_type": "code",
   "execution_count": null,
   "id": "e26d9564",
   "metadata": {},
   "outputs": [],
   "source": [
    "X_train,X_test,y_train,y_test  = train_test_split(X,y,test_size=0.3,random_state=42)"
   ]
  },
  {
   "cell_type": "code",
   "execution_count": null,
   "id": "a2424cf4",
   "metadata": {},
   "outputs": [],
   "source": [
    "X_train.shape,X_test.shape,y_train.shape,y_test.shape"
   ]
  },
  {
   "cell_type": "markdown",
   "id": "df7c65fb",
   "metadata": {},
   "source": [
    "# Train the Model with Ml and ANN"
   ]
  },
  {
   "cell_type": "code",
   "execution_count": null,
   "id": "5a4cb48d",
   "metadata": {},
   "outputs": [],
   "source": [
    "from sklearn.linear_model import LogisticRegression\n",
    "from sklearn.ensemble import RandomForestClassifier\n",
    "from sklearn.tree import DecisionTreeClassifier\n",
    "from sklearn.svm import SVC\n",
    "from sklearn.neighbors import KNeighborsClassifier\n",
    "# import gridesearchcv\n",
    "from sklearn.model_selection import GridSearchCV"
   ]
  },
  {
   "cell_type": "code",
   "execution_count": null,
   "id": "78e2781e",
   "metadata": {},
   "outputs": [],
   "source": [
    "models = {\n",
    "    'LogisticRegression': LogisticRegression(),\n",
    "    'RandomForestClassifier': RandomForestClassifier(),\n",
    "    'DecisionTreeClassifier': DecisionTreeClassifier(),\n",
    "    'SVC': SVC(),\n",
    "    'KNeighborsClassifier': KNeighborsClassifier(),\n",
    "}"
   ]
  },
  {
   "cell_type": "code",
   "execution_count": null,
   "id": "db307557",
   "metadata": {},
   "outputs": [],
   "source": [
    "params_gdr = {\n",
    "    'LogisticRegression': {\n",
    "        'C': [0.001, 0.01, 0.1, 1, 10, 100],\n",
    "        'penalty': ['l2'],\n",
    "        'solver': ['lbfgs']\n",
    "    },\n",
    "    'RandomForestClassifier': {\n",
    "        'n_estimators': [100, 150, 200],\n",
    "        'criterion': ['gini', 'entropy']\n",
    "    },\n",
    "    'DecisionTreeClassifier': {\n",
    "        'criterion': ['gini', 'entropy'],\n",
    "    },\n",
    "    'SVC': {\n",
    "        'C': [0.001, 0.01, 0.1, 1, 10, 100],\n",
    "        'kernel': ['linear', 'rbf']\n",
    "    },\n",
    "    'KNeighborsClassifier': {  \n",
    "        'n_neighbors': [3, 5, 7],\n",
    "        'weights': ['uniform', 'distance']\n",
    "    },\n",
    "}"
   ]
  },
  {
   "cell_type": "code",
   "execution_count": null,
   "id": "01f19246",
   "metadata": {},
   "outputs": [],
   "source": [
    "from sklearn.model_selection import GridSearchCV\n",
    "def predict_model(model,para,X_train,y_train):\n",
    "    best_estimator = {}\n",
    "    for model_name in models:\n",
    "        model = models[model_name]\n",
    "        params = para[model_name]\n",
    "        gdr = GridSearchCV(estimator=model, cv=5, scoring='accuracy', n_jobs=-1, param_grid=params)\n",
    "        gdr.fit(X_train, y_train)\n",
    "        best_estimator[model_name] = gdr.best_estimator_\n",
    "        print(f\"Best parameters for {model_name}: {gdr.best_params_}\")\n",
    "        print(f\"Best score for {model_name}: {gdr.best_score_}\\n\")\n",
    "    return best_estimator"
   ]
  },
  {
   "cell_type": "code",
   "execution_count": null,
   "id": "270be4f2",
   "metadata": {},
   "outputs": [],
   "source": [
    "predict_model(models,params_gdr,X_train,y_train)"
   ]
  },
  {
   "cell_type": "markdown",
   "id": "af24e5fa",
   "metadata": {},
   "source": [
    "# try with XGboost"
   ]
  },
  {
   "cell_type": "code",
   "execution_count": null,
   "id": "a5d905ae",
   "metadata": {},
   "outputs": [],
   "source": [
    "import xgboost"
   ]
  },
  {
   "cell_type": "code",
   "execution_count": null,
   "id": "d05e758b",
   "metadata": {},
   "outputs": [],
   "source": [
    "from xgboost import XGBClassifier"
   ]
  },
  {
   "cell_type": "code",
   "execution_count": null,
   "id": "ee389cb4-0d9b-42e3-b7e9-aaf875210b9a",
   "metadata": {},
   "outputs": [],
   "source": [
    "xg_param = {\n",
    "    'n_estimators': [100, 150, 200],\n",
    "    'max_depth': range(2, 11, 1),\n",
    "    'learning_rate': [0.1, 0.01, 0.5],\n",
    "}"
   ]
  },
  {
   "cell_type": "code",
   "execution_count": null,
   "id": "25ce1f6a",
   "metadata": {},
   "outputs": [],
   "source": [
    "from xgboost import XGBClassifier\n",
    "from sklearn.model_selection import GridSearchCV\n",
    "xg_gdr = GridSearchCV(estimator=XGBClassifier(), cv=5, scoring='accuracy', n_jobs=-1, param_grid=xg_param)"
   ]
  },
  {
   "cell_type": "code",
   "execution_count": null,
   "id": "ac3a5fbd",
   "metadata": {},
   "outputs": [],
   "source": [
    "xg_gdr.fit(X_train,y_train)"
   ]
  },
  {
   "cell_type": "code",
   "execution_count": null,
   "id": "ee868901-68ab-4a14-8506-d178f678b10b",
   "metadata": {},
   "outputs": [],
   "source": [
    "xg_gdr.best_params_"
   ]
  },
  {
   "cell_type": "code",
   "execution_count": null,
   "id": "55e5f830-48fb-46d4-8c00-cd32314b7683",
   "metadata": {},
   "outputs": [],
   "source": [
    "xg_gdr.best_score_"
   ]
  },
  {
   "cell_type": "markdown",
   "id": "7efaaedf-0d7c-442f-be64-0ad131d2c650",
   "metadata": {},
   "source": [
    "# Try with ANN"
   ]
  },
  {
   "cell_type": "code",
   "execution_count": null,
   "id": "29031b57",
   "metadata": {},
   "outputs": [],
   "source": [
    "from tensorflow import keras\n",
    "from keras.models import Sequential # type: ignore"
   ]
  },
  {
   "cell_type": "code",
   "execution_count": null,
   "id": "3a3505c1",
   "metadata": {},
   "outputs": [],
   "source": [
    "from keras.layers import Dense,Dropout,ReLU,BatchNormalization"
   ]
  },
  {
   "cell_type": "markdown",
   "id": "e5fd050b-0ba7-4b26-921b-b539318dafb6",
   "metadata": {},
   "source": [
    "#### Build the ANN model"
   ]
  },
  {
   "cell_type": "code",
   "execution_count": null,
   "id": "38c59c9a-84bd-4877-841e-8abd4ee0ac4d",
   "metadata": {},
   "outputs": [],
   "source": [
    "model_one = Sequential()"
   ]
  },
  {
   "cell_type": "code",
   "execution_count": null,
   "id": "b7f7a1bf-a955-46a3-9579-e15278a86593",
   "metadata": {},
   "outputs": [],
   "source": [
    "model_one.add(Dense(units=32,kernel_initializer='uniform',activation='relu',input_dim=8))"
   ]
  },
  {
   "cell_type": "markdown",
   "id": "e73aac3c-224c-4158-a864-fbf0c828d20f",
   "metadata": {},
   "source": [
    "#### 1st input layer have 21 inpute and 1st hidden layer have 32"
   ]
  },
  {
   "cell_type": "code",
   "execution_count": null,
   "id": "1c0332ac-e13b-4cd4-b696-a7a14796ecb0",
   "metadata": {},
   "outputs": [],
   "source": [
    "model_one.add(Dense(units=64,activation='relu',kernel_initializer='uniform'))\n",
    "model_one.add(Dense(units=128,activation='relu',kernel_initializer='uniform'))\n",
    "model_one.add(Dense(units=32,activation='relu',kernel_initializer='uniform'))\n",
    "model_one.add(Dense(units=16,activation='relu',kernel_initializer='uniform'))\n",
    "model_one.add(Dense(units=8,activation='relu',kernel_initializer='uniform'))\n",
    "model_one.add(Dense(units=1,activation='sigmoid',kernel_initializer='uniform'))"
   ]
  },
  {
   "cell_type": "code",
   "execution_count": null,
   "id": "a9ed8949-96a7-400b-867f-aac9c30b411d",
   "metadata": {},
   "outputs": [],
   "source": [
    "model_one.compile(optimizer='adam',loss='binary_crossentropy',metrics=['accuracy'])"
   ]
  },
  {
   "cell_type": "code",
   "execution_count": null,
   "id": "9d183860-587c-4b46-94c7-d5dcf130e1f5",
   "metadata": {},
   "outputs": [],
   "source": [
    "model_one.summary()"
   ]
  },
  {
   "cell_type": "code",
   "execution_count": null,
   "id": "4ce6391c-6715-4a2c-8bfa-506c11e5cc45",
   "metadata": {},
   "outputs": [],
   "source": [
    "history = model.fit(X_train,y_train,batch_size=32,epochs=200,validation_split=0.2)"
   ]
  },
  {
   "cell_type": "code",
   "execution_count": null,
   "id": "2329e3aa-8cb8-4d98-be00-e476d91283ed",
   "metadata": {},
   "outputs": [],
   "source": [
    "# As per above we can say that the Ann have the higest accuracy compare to ML models"
   ]
  },
  {
   "cell_type": "markdown",
   "id": "d198a079-c641-40e9-abb0-3dfab97cfc8a",
   "metadata": {},
   "source": [
    "# lets make a pipeline which will standarize the data and push for training"
   ]
  },
  {
   "cell_type": "code",
   "execution_count": null,
   "id": "b445dfb7-64f4-45a7-a4e6-25b97708e8a7",
   "metadata": {},
   "outputs": [],
   "source": [
    "y_pred = model.predict(X_test)"
   ]
  },
  {
   "cell_type": "code",
   "execution_count": null,
   "id": "a91604ed",
   "metadata": {},
   "outputs": [],
   "source": []
  }
 ],
 "metadata": {
  "kernelspec": {
   "display_name": "dp",
   "language": "python",
   "name": "python3"
  },
  "language_info": {
   "codemirror_mode": {
    "name": "ipython",
    "version": 3
   },
   "file_extension": ".py",
   "mimetype": "text/x-python",
   "name": "python",
   "nbconvert_exporter": "python",
   "pygments_lexer": "ipython3",
   "version": "3.12.4"
  }
 },
 "nbformat": 4,
 "nbformat_minor": 5
}
